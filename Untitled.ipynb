{
 "cells": [
  {
   "cell_type": "code",
   "execution_count": null,
   "id": "c4b03fdd",
   "metadata": {},
   "outputs": [],
   "source": [
    "from selenium import webdriver"
   ]
  },
  {
   "cell_type": "markdown",
   "id": "2718bd18",
   "metadata": {},
   "source": [
    "## Amazon Scrapper"
   ]
  },
  {
   "cell_type": "code",
   "execution_count": null,
   "id": "e8abe9f5",
   "metadata": {},
   "outputs": [],
   "source": [
    "driver = webdriver.Firefox()"
   ]
  },
  {
   "cell_type": "code",
   "execution_count": null,
   "id": "0015a1e7",
   "metadata": {},
   "outputs": [],
   "source": [
    "url = 'https://www.amazon.in/Apple-iPhone-14-128GB-Midnight/dp/B0BDJYHP2H/ref=sr_1_3?crid=MUBDKUCN13RZ&keywords=iphone%2B14&qid=1695535405&sprefix=iphone%2B14%2Caps%2C234&sr=8-3&th=1'\n",
    "driver.get(url)"
   ]
  },
  {
   "cell_type": "code",
   "execution_count": null,
   "id": "528018d5",
   "metadata": {},
   "outputs": [],
   "source": [
    "driver.title"
   ]
  },
  {
   "cell_type": "code",
   "execution_count": null,
   "id": "86954c5a",
   "metadata": {},
   "outputs": [],
   "source": [
    "driver.find_element('xpath', '//*[@id=\"productTitle\"]').text"
   ]
  },
  {
   "cell_type": "code",
   "execution_count": null,
   "id": "55eaa5dc",
   "metadata": {},
   "outputs": [],
   "source": [
    "driver"
   ]
  },
  {
   "cell_type": "code",
   "execution_count": null,
   "id": "868c140a",
   "metadata": {},
   "outputs": [],
   "source": [
    "for i in driver.find_elements('xpath','*'):\n",
    "    print(i.find_elements('xpath','*'))"
   ]
  },
  {
   "cell_type": "raw",
   "id": "36953630",
   "metadata": {},
   "source": [
    "inside_body = driver.find_element('id', 'a-page')\n",
    "inside_a_page = inside_body.find_element('id', 'dp')\n",
    "\n",
    "\n",
    "inside_dp_container = inside_a_page.find_element('id', 'dp-container')\n",
    "inside_centerCol = inside_dp_container.find_element('id', 'centerCol')\n",
    "inside_apex_desktop = inside_centerCol.find_element('id', 'apex_desktop')\n",
    "inside_corePriceDisplay_desktop_feature_div = inside_apex_desktop.find_element('id', 'corePriceDisplay_desktop_feature_div')\n",
    "inside_a_section = inside_corePriceDisplay_desktop_feature_div.find_element('class name', 'a-section')\n",
    "inside_a_price = inside_a_section.find_element('class name', 'a-price')\n",
    "# inside_price_span = inside_a_price.find_elements('tag name', 'span')\n",
    "inside_price_span = inside_a_price.find_elements('xpath', '//*[@aria-hidden=\"true\"]')\n",
    "\n",
    "# inside_price_span.text, inside_a_price.text\n",
    "# for i in inside_price_span:\n",
    "#     print('1' + i.text)\n",
    "# for i in inside_price_span:\n",
    "#     print(i.text)"
   ]
  },
  {
   "cell_type": "code",
   "execution_count": null,
   "id": "3ab3a683",
   "metadata": {},
   "outputs": [],
   "source": [
    "for i in driver.find_elements('xpath', '//*[@class=\"a-price-whole\"]'):\n",
    "    if len(i.text) > 0:\n",
    "        print(i.text)"
   ]
  },
  {
   "cell_type": "code",
   "execution_count": null,
   "id": "438aeb4d",
   "metadata": {},
   "outputs": [],
   "source": [
    "class=\"a-price-whole\""
   ]
  },
  {
   "cell_type": "raw",
   "id": "2e6dc1b2",
   "metadata": {},
   "source": [
    "id = a-page\n",
    "id = dp\n",
    "id = dp-container\n",
    "id = centerCol\n",
    "id = apex_desktop\n",
    "id = corePriceDisplay_desktop_feature_div\n",
    "class = a-section\n",
    "class = a-price\n",
    "element = <span>\n",
    "class = a-price-whole"
   ]
  },
  {
   "cell_type": "code",
   "execution_count": null,
   "id": "a4f0fc50",
   "metadata": {},
   "outputs": [],
   "source": [
    "inside_body.find_element('id', 'a-page')"
   ]
  },
  {
   "cell_type": "markdown",
   "id": "56d82dce",
   "metadata": {},
   "source": [
    "# Final Code "
   ]
  },
  {
   "cell_type": "code",
   "execution_count": 51,
   "id": "6b88aa9c",
   "metadata": {},
   "outputs": [],
   "source": [
    "import yaml\n",
    "from datetime import datetime\n",
    "import time\n",
    "from selenium import webdriver\n",
    "from selenium.webdriver.firefox.options import Options\n",
    "import pandas as pd\n",
    "import os\n",
    "\n",
    "def get_url_list(yaml_file_path):\n",
    "    url_list = []\n",
    "    \n",
    "    with open(yaml_file_path) as file:\n",
    "        url_list = yaml.safe_load(file)\n",
    "    \n",
    "    return url_list \n",
    "\n",
    "\n",
    "def save_to_csv(database_name, df_to_be_written):\n",
    "    if os.path.isfile(database_name):\n",
    "        df1 = pd.read_csv(database_name)\n",
    "        df2 = pd.concat([df1, df_to_be_written], ignore_index=True)\n",
    "        df2.reset_index()\n",
    "        df2.to_csv(database_name, index=False)\n",
    "    else:\n",
    "        df_to_be_written.to_csv(database_name, index=False)\n",
    "    \n",
    "    \n",
    "def get_data_from_browser(wait_time, url_list):\n",
    "    # in seconds\n",
    "    # firefox_options = Options().add_argument()\n",
    "    driver = webdriver.Firefox()\n",
    "    # driver.minimize_window()\n",
    "    items_list = []\n",
    "\n",
    "    for url in url_list:\n",
    "        driver.get(url)\n",
    "        time.sleep(wait_time)\n",
    "\n",
    "        # write for implicit wait \n",
    "        current_date_time = datetime.strftime(datetime.now(), '%d-%m-%Y %H:%M:%S')\n",
    "        item_name = driver.find_element('xpath', '//*[@id=\"productTitle\"]').text\n",
    "\n",
    "        for i in driver.find_elements('xpath', '//*[@class=\"a-price-whole\"]'):\n",
    "            if len(i.text) > 0:\n",
    "                item_price = int(''.join(i.text.split(',')))\n",
    "    #             print(item_name, item_price, current_date_time)\n",
    "\n",
    "                d = {'Item Name': item_name, 'Item Price': item_price, 'Added Date': current_date_time}\n",
    "                items_list.append(d)\n",
    "                break\n",
    "\n",
    "    driver.close()\n",
    "    \n",
    "    df = pd.DataFrame(items_list)\n",
    "    return df\n",
    "\n",
    "    \n",
    "def main():\n",
    "    YAML_FILE_PATH = 'items_link.yaml'\n",
    "    DATABASE_NAME = 'database.csv'\n",
    "    WAIT_TIME = 5\n",
    "    \n",
    "    if not os.path.isfile(YAML_FILE_PATH):\n",
    "        open(YAML_FILE_PATH, mode='w')\n",
    "        raise Exception('Yaml file not present! Created one.')\n",
    "    \n",
    "    url_list = get_url_list(YAML_FILE_PATH)\n",
    "    result_dataframe = get_data_from_browser(WAIT_TIME, url_list)\n",
    "    save_to_csv(database_name=DATABASE_NAME, df_to_be_written=result_dataframe)\n",
    "    "
   ]
  },
  {
   "cell_type": "code",
   "execution_count": 38,
   "id": "ceb41e15",
   "metadata": {},
   "outputs": [
    {
     "data": {
      "text/html": [
       "<div>\n",
       "<style scoped>\n",
       "    .dataframe tbody tr th:only-of-type {\n",
       "        vertical-align: middle;\n",
       "    }\n",
       "\n",
       "    .dataframe tbody tr th {\n",
       "        vertical-align: top;\n",
       "    }\n",
       "\n",
       "    .dataframe thead th {\n",
       "        text-align: right;\n",
       "    }\n",
       "</style>\n",
       "<table border=\"1\" class=\"dataframe\">\n",
       "  <thead>\n",
       "    <tr style=\"text-align: right;\">\n",
       "      <th></th>\n",
       "      <th>Item Name</th>\n",
       "      <th>Item Price</th>\n",
       "      <th>Added Date</th>\n",
       "    </tr>\n",
       "  </thead>\n",
       "  <tbody>\n",
       "    <tr>\n",
       "      <th>0</th>\n",
       "      <td>Apple iPhone 14 (128 GB) - Yellow</td>\n",
       "      <td>64999</td>\n",
       "      <td>24-09-2023 16:06:01</td>\n",
       "    </tr>\n",
       "    <tr>\n",
       "      <th>1</th>\n",
       "      <td>Apple iPhone 14 (256 GB) - Purple</td>\n",
       "      <td>72999</td>\n",
       "      <td>24-09-2023 16:06:10</td>\n",
       "    </tr>\n",
       "    <tr>\n",
       "      <th>2</th>\n",
       "      <td>Apple iPhone 14 (512 GB) - Purple</td>\n",
       "      <td>96999</td>\n",
       "      <td>24-09-2023 16:06:18</td>\n",
       "    </tr>\n",
       "  </tbody>\n",
       "</table>\n",
       "</div>"
      ],
      "text/plain": [
       "                           Item Name  Item Price           Added Date\n",
       "0  Apple iPhone 14 (128 GB) - Yellow       64999  24-09-2023 16:06:01\n",
       "1  Apple iPhone 14 (256 GB) - Purple       72999  24-09-2023 16:06:10\n",
       "2  Apple iPhone 14 (512 GB) - Purple       96999  24-09-2023 16:06:18"
      ]
     },
     "execution_count": 38,
     "metadata": {},
     "output_type": "execute_result"
    }
   ],
   "source": []
  },
  {
   "cell_type": "code",
   "execution_count": 52,
   "id": "1713e56b",
   "metadata": {},
   "outputs": [],
   "source": [
    "!code"
   ]
  },
  {
   "cell_type": "code",
   "execution_count": null,
   "id": "00da0126",
   "metadata": {},
   "outputs": [],
   "source": []
  }
 ],
 "metadata": {
  "kernelspec": {
   "display_name": "Python 3 (ipykernel)",
   "language": "python",
   "name": "python3"
  },
  "language_info": {
   "codemirror_mode": {
    "name": "ipython",
    "version": 3
   },
   "file_extension": ".py",
   "mimetype": "text/x-python",
   "name": "python",
   "nbconvert_exporter": "python",
   "pygments_lexer": "ipython3",
   "version": "3.10.9"
  }
 },
 "nbformat": 4,
 "nbformat_minor": 5
}
